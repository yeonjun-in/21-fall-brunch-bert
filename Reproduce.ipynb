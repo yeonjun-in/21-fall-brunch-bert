{
 "cells": [
  {
   "cell_type": "markdown",
   "metadata": {},
   "source": [
    "### 아래 코드를 돌리면 \n",
    "- author embedding, magazine embedding 을 추가하고 insert, substitute augmentation 을 실시한 결과물이 reproduce 됩니다."
   ]
  },
  {
   "cell_type": "code",
   "execution_count": 5,
   "metadata": {},
   "outputs": [
    {
     "name": "stdout",
     "output_type": "stream",
     "text": [
      "Folder created: /home/yeonjun/Desktop/RECGNN/bertrec/experiments/test_min_uc=8 | min_sc=8 | bert_aug_list=['insert', 'substitute'] | bert_add_author=True | bert_add_magazine=True | bert_emb_aggr=concat | 4\n",
      "{'bert_add_author': True,\n",
      " 'bert_add_magazine': True,\n",
      " 'bert_aug_list': ['insert',\n",
      "                   'substitute'],\n",
      " 'bert_dropout': 0.2,\n",
      " 'bert_emb_aggr': 'concat',\n",
      " 'bert_hidden_units': 128,\n",
      " 'bert_mask_prob': 0.3,\n",
      " 'bert_max_len': 32,\n",
      " 'bert_num_blocks': 12,\n",
      " 'bert_num_heads': 8,\n",
      " 'best_metric': 'NDCG@10',\n",
      " 'dataloader_code': 'bert',\n",
      " 'dataloader_random_seed': 0.0,\n",
      " 'dataset_code': 'brunch',\n",
      " 'dataset_split_seed': 0,\n",
      " 'decay_step': 15,\n",
      " 'device': 'cuda',\n",
      " 'device_idx': '0',\n",
      " 'eval_set_size': 500,\n",
      " 'experiment_description': 'test',\n",
      " 'experiment_dir': 'experiments',\n",
      " 'gamma': 0.1,\n",
      " 'log_period_as_iter': 12800,\n",
      " 'lr': 0.001,\n",
      " 'metric_ks': [10,\n",
      "               20,\n",
      "               50],\n",
      " 'min_rating': 1,\n",
      " 'min_sc': 8,\n",
      " 'min_uc': 8,\n",
      " 'mode': 'train',\n",
      " 'model_code': 'bert',\n",
      " 'model_init_seed': 0,\n",
      " 'num_epochs': 100,\n",
      " 'num_gpu': 1,\n",
      " 'optimizer': 'Adam',\n",
      " 'split': 'leave_one_out',\n",
      " 'test_batch_size': 128,\n",
      " 'test_negative_sample_size': 100,\n",
      " 'test_negative_sampler_code': 'random',\n",
      " 'test_negative_sampling_seed': 0,\n",
      " 'train_batch_size': 128,\n",
      " 'train_negative_sample_size': 100,\n",
      " 'train_negative_sampler_code': 'random',\n",
      " 'train_negative_sampling_seed': 0,\n",
      " 'trainer_code': 'bert',\n",
      " 'val_batch_size': 128,\n",
      " 'weight_decay': 0}\n",
      "Already preprocessed. Skip preprocessing\n",
      "Negatives samples exist. Loading.\n",
      "Negatives samples exist. Loading.\n",
      "Already preprocessed. Skip preprocessing\n",
      "Already preprocessed. Skip preprocessing\n",
      "Test best model with test set!\n",
      "Val: N@10 0.510, N@20 0.533, N@50 0.556, R@10 0.708, R@20 0.798, R@50 0.916, T@1\n",
      "{'Recall@50': 0.9159892313182354, 'NDCG@50': 0.5564585532993078, 'Recall@20': 0.7980627119541168, 'NDCG@20': 0.5329098328948021, 'Recall@10': 0.7078824434429407, 'NDCG@10': 0.510075781494379, 'Tail@50': 0.016103383095469326, 'Tail@20': 0.014522738376399502, 'Tail@10': 0.01504896060214378}\n"
     ]
    }
   ],
   "source": [
    "!python test.py --bert_hidden_units 128 --num_epochs 100 --device_idx 0 --bert_add_magazine --bert_add_author --bert_emb_aggr concat --bert_aug_list insert substitute"
   ]
  }
 ],
 "metadata": {
  "interpreter": {
   "hash": "f608861d47515b19ed2972810bb0023a27e2ef9c0a4c2425f98b0eb75a3a25e4"
  },
  "kernelspec": {
   "display_name": "Python [conda env:BrunchRec]",
   "language": "python",
   "name": "python3"
  },
  "language_info": {
   "codemirror_mode": {
    "name": "ipython",
    "version": 3
   },
   "file_extension": ".py",
   "mimetype": "text/x-python",
   "name": "python",
   "nbconvert_exporter": "python",
   "pygments_lexer": "ipython3",
   "version": "3.7.11"
  }
 },
 "nbformat": 4,
 "nbformat_minor": 2
}
